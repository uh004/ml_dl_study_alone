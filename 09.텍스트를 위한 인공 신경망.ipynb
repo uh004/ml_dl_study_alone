{
 "cells": [
  {
   "cell_type": "markdown",
   "metadata": {},
   "source": [
    "### 09-1 순차 데이터와 순환 신경망"
   ]
  },
  {
   "cell_type": "markdown",
   "metadata": {},
   "source": [
    "### 순차 데이터\n",
    "- 텍스트나 시계열 데이터와 같이 순서에 의미가 있는 데이터\n",
    "- 피드포워드 신경망: 입력 데이터의 흐름이 앞으로만 전달되는 신경망"
   ]
  },
  {
   "cell_type": "markdown",
   "metadata": {},
   "source": [
    "### 순환 신경망\n",
    "- 뉴런의 출력을 다시 자기 자신으로 전달 - 어떤 샘플을 처리 할 때 바로 이전에 사용했던 데이터 재사용\n",
    "- 타임스텝: 순환 신경망에서는 이전 샘플에 대한 기억을 가지고 있다.\n",
    "- 셀: 순환 신경망에서 층을 부르는 이름\n",
    "- 은닉 상태: 셀의 출력"
   ]
  },
  {
   "cell_type": "markdown",
   "metadata": {},
   "source": [
    "### 09-2 순환 신경망으로 IMDB 리뷰 분류하기"
   ]
  },
  {
   "cell_type": "markdown",
   "metadata": {},
   "source": [
    "### IMDB 리뷰 데이터셋\n",
    "- 자연어 처리: 컴퓨터를 사용해 인간의 언어를 처리\n",
    "- 말뭉치: 훈련 데이터\n",
    "- 토큰: 분리된 단어\n",
    "- 어휘 사전: 훈련 세트에서 고유한 단어를 뽑아 만든 목록"
   ]
  },
  {
   "cell_type": "code",
   "execution_count": 2,
   "metadata": {},
   "outputs": [],
   "source": [
    "from tensorflow.keras.datasets import imdb\n",
    "\n",
    "(train_input, train_target), (test_input, test_target) = imdb.load_data(num_words=300) # 가장 자주 등장하는 단어 300개"
   ]
  },
  {
   "cell_type": "code",
   "execution_count": 3,
   "metadata": {},
   "outputs": [
    {
     "name": "stdout",
     "output_type": "stream",
     "text": [
      "(25000,) (25000,)\n"
     ]
    }
   ],
   "source": [
    "print(train_input.shape, test_input.shape)"
   ]
  },
  {
   "cell_type": "code",
   "execution_count": 4,
   "metadata": {},
   "outputs": [
    {
     "name": "stdout",
     "output_type": "stream",
     "text": [
      "218\n"
     ]
    }
   ],
   "source": [
    "print(len(train_input[0])) # 첫번째 리뷰의 길이 218개의 토큰"
   ]
  },
  {
   "cell_type": "code",
   "execution_count": 8,
   "metadata": {},
   "outputs": [
    {
     "name": "stdout",
     "output_type": "stream",
     "text": [
      "[1, 14, 22, 16, 43, 2, 2, 2, 2, 65, 2, 2, 66, 2, 4, 173, 36, 256, 5, 25, 100, 43, 2, 112, 50, 2, 2, 9, 35, 2, 284, 5, 150, 4, 172, 112, 167, 2, 2, 2, 39, 4, 172, 2, 2, 17, 2, 38, 13, 2, 4, 192, 50, 16, 6, 147, 2, 19, 14, 22, 4, 2, 2, 2, 4, 22, 71, 87, 12, 16, 43, 2, 38, 76, 15, 13, 2, 4, 22, 17, 2, 17, 12, 16, 2, 18, 2, 5, 62, 2, 12, 8, 2, 8, 106, 5, 4, 2, 2, 16, 2, 66, 2, 33, 4, 130, 12, 16, 38, 2, 5, 25, 124, 51, 36, 135, 48, 25, 2, 33, 6, 22, 12, 215, 28, 77, 52, 5, 14, 2, 16, 82, 2, 8, 4, 107, 117, 2, 15, 256, 4, 2, 7, 2, 5, 2, 36, 71, 43, 2, 2, 26, 2, 2, 46, 7, 4, 2, 2, 13, 104, 88, 4, 2, 15, 297, 98, 32, 2, 56, 26, 141, 6, 194, 2, 18, 4, 226, 22, 21, 134, 2, 26, 2, 5, 144, 30, 2, 18, 51, 36, 28, 224, 92, 25, 104, 4, 226, 65, 16, 38, 2, 88, 12, 16, 283, 5, 16, 2, 113, 103, 32, 15, 16, 2, 19, 178, 32]\n"
     ]
    }
   ],
   "source": [
    "print(train_input[0]) # 이미 정수로 변환"
   ]
  },
  {
   "cell_type": "code",
   "execution_count": 9,
   "metadata": {},
   "outputs": [
    {
     "name": "stdout",
     "output_type": "stream",
     "text": [
      "[1 0 0 1 0 0 1 0 1 0 1 0 0 0 0 0 1 1 0 1]\n"
     ]
    }
   ],
   "source": [
    "print(train_target[:20]) # 0:부정, 1:긍정"
   ]
  },
  {
   "cell_type": "code",
   "execution_count": 10,
   "metadata": {},
   "outputs": [],
   "source": [
    "from sklearn.model_selection import train_test_split\n",
    "\n",
    "train_input, val_input, train_target, val_target = train_test_split(train_input, train_target, test_size=0.2,\n",
    "                                                                    random_state=42)"
   ]
  },
  {
   "cell_type": "code",
   "execution_count": 11,
   "metadata": {},
   "outputs": [],
   "source": [
    "# 각 리뷰의 길이를 계산\n",
    "import numpy as np\n",
    "\n",
    "lengths = np.array([len(x) for x in train_input])"
   ]
  },
  {
   "cell_type": "code",
   "execution_count": 14,
   "metadata": {},
   "outputs": [
    {
     "name": "stdout",
     "output_type": "stream",
     "text": [
      "239.00925 178.0\n"
     ]
    }
   ],
   "source": [
    "print(np.mean(lengths), np.median(lengths)) # 평균 단어 개수 239, 중앙값 178 보아서 데이터가 한쪽에 치우쳐 있음"
   ]
  },
  {
   "cell_type": "code",
   "execution_count": 15,
   "metadata": {},
   "outputs": [
    {
     "data": {
      "image/png": "[encoded data removed]",
      "text/plain": [
       "<Figure size 640x480 with 1 Axes>"
      ]
     },
     "metadata": {},
     "output_type": "display_data"
    }
   ],
   "source": [
    "# 시각화를 통해 확인 - 대분 리뷰 길이는 300미만\n",
    "import matplotlib.pyplot as plt\n",
    "plt.hist(lengths)\n",
    "plt.xlabel('length')\n",
    "plt.ylabel('frequency')\n",
    "plt.show()"
   ]
  },
  {
   "cell_type": "code",
   "execution_count": 16,
   "metadata": {},
   "outputs": [],
   "source": [
    "# 데이터 길이 맞추기\n",
    "from tensorflow.keras.preprocessing.sequence import pad_sequences\n",
    "\n",
    "train_seq = pad_sequences(train_input, maxlen=100)"
   ]
  },
  {
   "cell_type": "code",
   "execution_count": 17,
   "metadata": {},
   "outputs": [
    {
     "name": "stdout",
     "output_type": "stream",
     "text": [
      "(20000, 100)\n"
     ]
    }
   ],
   "source": [
    "print(train_seq.shape)"
   ]
  },
  {
   "cell_type": "code",
   "execution_count": 18,
   "metadata": {},
   "outputs": [
    {
     "name": "stdout",
     "output_type": "stream",
     "text": [
      "[ 10   4  20   9   2   2   2   5  45   6   2   2  33 269   8   2 142   2\n",
      "   5   2  17  73  17 204   5   2  19  55   2   2  92  66 104  14  20  93\n",
      "  76   2 151  33   4  58  12 188   2 151  12 215  69 224 142  73 237   6\n",
      "   2   7   2   2 188   2 103  14  31  10  10   2   7   2   5   2  80  91\n",
      "   2  30   2  34  14  20 151  50  26 131  49   2  84  46  50  37  80  79\n",
      "   6   2  46   7  14  20  10  10   2 158]\n"
     ]
    }
   ],
   "source": [
    "print(train_seq[0])"
   ]
  },
  {
   "cell_type": "code",
   "execution_count": 19,
   "metadata": {},
   "outputs": [
    {
     "name": "stdout",
     "output_type": "stream",
     "text": [
      "[6, 2, 46, 7, 14, 20, 10, 10, 2, 158]\n"
     ]
    }
   ],
   "source": [
    "print(train_input[0][-10:])"
   ]
  },
  {
   "cell_type": "code",
   "execution_count": 20,
   "metadata": {},
   "outputs": [
    {
     "name": "stdout",
     "output_type": "stream",
     "text": [
      "[  0   0   0   0   1   2 195  19  49   2   2 190   4   2   2   2 183  10\n",
      "  10  13  82  79   4   2  36  71 269   8   2  25  19  49   7   4   2   2\n",
      "   2   2   2  10  10  48  25  40   2  11   2   2  40   2   2   5   4   2\n",
      "   2  95  14 238  56 129   2  10  10  21   2  94   2   2   2   2  11 190\n",
      "  24   2   2   7  94 205   2  10  10  87   2  34  49   2   7   2   2   2\n",
      "   2   2 290   2  46  48  64  18   4   2]\n"
     ]
    }
   ],
   "source": [
    "# 샘플의 길이가 100이 안되면 0이 있음\n",
    "print(train_seq[5])"
   ]
  },
  {
   "cell_type": "code",
   "execution_count": 21,
   "metadata": {},
   "outputs": [],
   "source": [
    "val_seq = pad_sequences(val_input, maxlen=100)"
   ]
  },
  {
   "cell_type": "markdown",
   "metadata": {},
   "source": [
    "### 순환 신경망 만들기"
   ]
  },
  {
   "cell_type": "code",
   "execution_count": 22,
   "metadata": {},
   "outputs": [
    {
     "name": "stdout",
     "output_type": "stream",
     "text": [
      "WARNING:tensorflow:From c:\\Users\\baesuhan\\AppData\\Local\\Programs\\Python\\Python311\\Lib\\site-packages\\keras\\src\\backend.py:873: The name tf.get_default_graph is deprecated. Please use tf.compat.v1.get_default_graph instead.\n",
      "\n"
     ]
    }
   ],
   "source": [
    "from tensorflow import keras\n",
    "\n",
    "model = keras.Sequential()\n",
    "\n",
    "model.add(keras.layers.SimpleRNN(8, input_shape=(100, 300))) # 단어 길이, load_data에 불러올때 우리는 300으로 불러옴\n",
    "model.add(keras.layers.Dense(1, activation='sigmoid'))"
   ]
  },
  {
   "cell_type": "code",
   "execution_count": 23,
   "metadata": {},
   "outputs": [],
   "source": [
    "train_oh = keras.utils.to_categorical(train_seq)"
   ]
  },
  {
   "cell_type": "code",
   "execution_count": 24,
   "metadata": {},
   "outputs": [
    {
     "name": "stdout",
     "output_type": "stream",
     "text": [
      "(20000, 100, 300)\n"
     ]
    }
   ],
   "source": [
    "print(train_oh.shape)"
   ]
  },
  {
   "cell_type": "code",
   "execution_count": 25,
   "metadata": {},
   "outputs": [
    {
     "name": "stdout",
     "output_type": "stream",
     "text": [
      "[0. 0. 0. 0. 0. 0. 0. 0. 0. 0. 1. 0.]\n"
     ]
    }
   ],
   "source": [
    "print(train_oh[0][0][:12])"
   ]
  },
  {
   "cell_type": "code",
   "execution_count": 26,
   "metadata": {},
   "outputs": [
    {
     "name": "stdout",
     "output_type": "stream",
     "text": [
      "1.0\n"
     ]
    }
   ],
   "source": [
    "# 나머지 원소는 모두 0일까\n",
    "print(np.sum(train_oh[0][0]))"
   ]
  },
  {
   "cell_type": "code",
   "execution_count": 27,
   "metadata": {},
   "outputs": [],
   "source": [
    "val_oh = keras.utils.to_categorical(val_seq)"
   ]
  },
  {
   "cell_type": "code",
   "execution_count": 28,
   "metadata": {},
   "outputs": [
    {
     "name": "stdout",
     "output_type": "stream",
     "text": [
      "Model: \"sequential\"\n",
      "_________________________________________________________________\n",
      " Layer (type)                Output Shape              Param #   \n",
      "=================================================================\n",
      " simple_rnn (SimpleRNN)      (None, 8)                 2472      \n",
      "                                                                 \n",
      " dense (Dense)               (None, 1)                 9         \n",
      "                                                                 \n",
      "=================================================================\n",
      "Total params: 2481 (9.69 KB)\n",
      "Trainable params: 2481 (9.69 KB)\n",
      "Non-trainable params: 0 (0.00 Byte)\n",
      "_________________________________________________________________\n"
     ]
    }
   ],
   "source": [
    "model.summary()"
   ]
  },
  {
   "cell_type": "markdown",
   "metadata": {},
   "source": [
    "### 순환 신경망 훈련하기"
   ]
  },
  {
   "cell_type": "code",
   "execution_count": 29,
   "metadata": {},
   "outputs": [
    {
     "name": "stdout",
     "output_type": "stream",
     "text": [
      "WARNING:tensorflow:From c:\\Users\\baesuhan\\AppData\\Local\\Programs\\Python\\Python311\\Lib\\site-packages\\keras\\src\\optimizers\\__init__.py:309: The name tf.train.Optimizer is deprecated. Please use tf.compat.v1.train.Optimizer instead.\n",
      "\n",
      "Epoch 1/100\n",
      "WARNING:tensorflow:From c:\\Users\\baesuhan\\AppData\\Local\\Programs\\Python\\Python311\\Lib\\site-packages\\keras\\src\\utils\\tf_utils.py:492: The name tf.ragged.RaggedTensorValue is deprecated. Please use tf.compat.v1.ragged.RaggedTensorValue instead.\n",
      "\n",
      "WARNING:tensorflow:From c:\\Users\\baesuhan\\AppData\\Local\\Programs\\Python\\Python311\\Lib\\site-packages\\keras\\src\\engine\\base_layer_utils.py:384: The name tf.executing_eagerly_outside_functions is deprecated. Please use tf.compat.v1.executing_eagerly_outside_functions instead.\n",
      "\n",
      "313/313 [==============================] - 5s 13ms/step - loss: 0.6891 - accuracy: 0.5357 - val_loss: 0.6778 - val_accuracy: 0.5728\n",
      "Epoch 2/100\n",
      " 19/313 [>.............................] - ETA: 2s - loss: 0.6698 - accuracy: 0.6012"
     ]
    },
    {
     "name": "stderr",
     "output_type": "stream",
     "text": [
      "c:\\Users\\baesuhan\\AppData\\Local\\Programs\\Python\\Python311\\Lib\\site-packages\\keras\\src\\engine\\training.py:3103: UserWarning: You are saving your model as an HDF5 file via `model.save()`. This file format is considered legacy. We recommend using instead the native Keras format, e.g. `model.save('my_model.keras')`.\n",
      "  saving_api.save_model(\n"
     ]
    },
    {
     "name": "stdout",
     "output_type": "stream",
     "text": [
      "313/313 [==============================] - 3s 10ms/step - loss: 0.6324 - accuracy: 0.6538 - val_loss: 0.5816 - val_accuracy: 0.7228\n",
      "Epoch 3/100\n",
      "313/313 [==============================] - 3s 11ms/step - loss: 0.5641 - accuracy: 0.7200 - val_loss: 0.5683 - val_accuracy: 0.7092\n",
      "Epoch 4/100\n",
      "313/313 [==============================] - 3s 11ms/step - loss: 0.5358 - accuracy: 0.7376 - val_loss: 0.5325 - val_accuracy: 0.7460\n",
      "Epoch 5/100\n",
      "313/313 [==============================] - 3s 11ms/step - loss: 0.5244 - accuracy: 0.7485 - val_loss: 0.5548 - val_accuracy: 0.7190\n",
      "Epoch 6/100\n",
      "313/313 [==============================] - 4s 11ms/step - loss: 0.5169 - accuracy: 0.7519 - val_loss: 0.5201 - val_accuracy: 0.7490\n",
      "Epoch 7/100\n",
      "313/313 [==============================] - 4s 11ms/step - loss: 0.5120 - accuracy: 0.7578 - val_loss: 0.5127 - val_accuracy: 0.7542\n",
      "Epoch 8/100\n",
      "313/313 [==============================] - 4s 12ms/step - loss: 0.5068 - accuracy: 0.7579 - val_loss: 0.5250 - val_accuracy: 0.7368\n",
      "Epoch 9/100\n",
      "313/313 [==============================] - 4s 12ms/step - loss: 0.5045 - accuracy: 0.7568 - val_loss: 0.5179 - val_accuracy: 0.7444\n",
      "Epoch 10/100\n",
      "313/313 [==============================] - 4s 12ms/step - loss: 0.4999 - accuracy: 0.7598 - val_loss: 0.5170 - val_accuracy: 0.7428\n"
     ]
    }
   ],
   "source": [
    "rmsprop = keras.optimizers.RMSprop(learning_rate=1e-4)\n",
    "\n",
    "model.compile(optimizer='rmsprop', loss='binary_crossentropy', metrics=['accuracy'])\n",
    "\n",
    "checkpoint_cb = keras.callbacks.ModelCheckpoint('best-simplernn-model.h5', save_best_only=True)\n",
    "early_stopping_cb = keras.callbacks.EarlyStopping(patience=3, restore_best_weights=True)\n",
    "\n",
    "history = model.fit(train_oh, train_target, epochs=100, batch_size=64,\n",
    "                    validation_data = (val_oh, val_target),\n",
    "                    callbacks=[checkpoint_cb, early_stopping_cb])"
   ]
  },
  {
   "cell_type": "code",
   "execution_count": 30,
   "metadata": {},
   "outputs": [
    {
     "data": {
      "image/png": "[encoded data removed]",
      "text/plain": [
       "<Figure size 640x480 with 1 Axes>"
      ]
     },
     "metadata": {},
     "output_type": "display_data"
    }
   ],
   "source": [
    "# 훈련 손실과 검증 손실 그래프로 비교\n",
    "plt.plot(history.history['loss'])\n",
    "plt.plot(history.history['val_loss'])\n",
    "plt.xlabel('epoch')\n",
    "plt.ylabel('loss')\n",
    "plt.legend(['train', 'val'])\n",
    "plt.show()"
   ]
  },
  {
   "cell_type": "code",
   "execution_count": 31,
   "metadata": {},
   "outputs": [
    {
     "name": "stdout",
     "output_type": "stream",
     "text": [
      "8000000 2400000000\n"
     ]
    }
   ],
   "source": [
    "# 원-핫 인코딩 단점은 입력 데이터가 커짐\n",
    "print(train_seq.nbytes, train_oh.nbytes) # 300배 커짐 - 다른 방법 생각"
   ]
  },
  {
   "cell_type": "markdown",
   "metadata": {},
   "source": [
    "### 단어 임베딩을 사용하기\n",
    "- 각 단어를 고정된 크기의 실수 벡터로 바꾼다."
   ]
  },
  {
   "cell_type": "code",
   "execution_count": 32,
   "metadata": {},
   "outputs": [],
   "source": [
    "# 임베딩을 추가한 순환 신경망\n",
    "model2 = keras.Sequential()\n",
    "\n",
    "model2.add(keras.layers.Embedding(300, 16, input_length=100)) # 어휘 사전 크기, 임베딩 벡터 크기, 입력 시퀀스 길이\n",
    "model2.add(keras.layers.SimpleRNN(8))\n",
    "model2.add(keras.layers.Dense(1, activation='sigmoid'))"
   ]
  },
  {
   "cell_type": "code",
   "execution_count": 33,
   "metadata": {},
   "outputs": [
    {
     "name": "stdout",
     "output_type": "stream",
     "text": [
      "Model: \"sequential_1\"\n",
      "_________________________________________________________________\n",
      " Layer (type)                Output Shape              Param #   \n",
      "=================================================================\n",
      " embedding (Embedding)       (None, 100, 16)           4800      \n",
      "                                                                 \n",
      " simple_rnn_1 (SimpleRNN)    (None, 8)                 200       \n",
      "                                                                 \n",
      " dense_1 (Dense)             (None, 1)                 9         \n",
      "                                                                 \n",
      "=================================================================\n",
      "Total params: 5009 (19.57 KB)\n",
      "Trainable params: 5009 (19.57 KB)\n",
      "Non-trainable params: 0 (0.00 Byte)\n",
      "_________________________________________________________________\n"
     ]
    }
   ],
   "source": [
    "model2.summary()"
   ]
  },
  {
   "cell_type": "code",
   "execution_count": 34,
   "metadata": {},
   "outputs": [
    {
     "name": "stdout",
     "output_type": "stream",
     "text": [
      "Epoch 1/100\n",
      "313/313 [==============================] - 5s 12ms/step - loss: 0.6871 - accuracy: 0.5377 - val_loss: 0.6375 - val_accuracy: 0.6436\n",
      "Epoch 2/100\n",
      " 11/313 [>.............................] - ETA: 3s - loss: 0.6319 - accuracy: 0.6349"
     ]
    },
    {
     "name": "stderr",
     "output_type": "stream",
     "text": [
      "c:\\Users\\baesuhan\\AppData\\Local\\Programs\\Python\\Python311\\Lib\\site-packages\\keras\\src\\engine\\training.py:3103: UserWarning: You are saving your model as an HDF5 file via `model.save()`. This file format is considered legacy. We recommend using instead the native Keras format, e.g. `model.save('my_model.keras')`.\n",
      "  saving_api.save_model(\n"
     ]
    },
    {
     "name": "stdout",
     "output_type": "stream",
     "text": [
      "313/313 [==============================] - 3s 11ms/step - loss: 0.5744 - accuracy: 0.7042 - val_loss: 0.5547 - val_accuracy: 0.7226\n",
      "Epoch 3/100\n",
      "313/313 [==============================] - 3s 10ms/step - loss: 0.5386 - accuracy: 0.7370 - val_loss: 0.5852 - val_accuracy: 0.6992\n",
      "Epoch 4/100\n",
      "313/313 [==============================] - 3s 10ms/step - loss: 0.5235 - accuracy: 0.7445 - val_loss: 0.5238 - val_accuracy: 0.7456\n",
      "Epoch 5/100\n",
      "313/313 [==============================] - 3s 11ms/step - loss: 0.5111 - accuracy: 0.7540 - val_loss: 0.5516 - val_accuracy: 0.7234\n",
      "Epoch 6/100\n",
      "313/313 [==============================] - 3s 10ms/step - loss: 0.5023 - accuracy: 0.7628 - val_loss: 0.5215 - val_accuracy: 0.7502\n",
      "Epoch 7/100\n",
      "313/313 [==============================] - 4s 11ms/step - loss: 0.4984 - accuracy: 0.7628 - val_loss: 0.5105 - val_accuracy: 0.7534\n",
      "Epoch 8/100\n",
      "313/313 [==============================] - 3s 10ms/step - loss: 0.4898 - accuracy: 0.7679 - val_loss: 0.5188 - val_accuracy: 0.7496\n",
      "Epoch 9/100\n",
      "313/313 [==============================] - 3s 11ms/step - loss: 0.4859 - accuracy: 0.7706 - val_loss: 0.5161 - val_accuracy: 0.7430\n",
      "Epoch 10/100\n",
      "313/313 [==============================] - 4s 13ms/step - loss: 0.4804 - accuracy: 0.7723 - val_loss: 0.5109 - val_accuracy: 0.7566\n"
     ]
    }
   ],
   "source": [
    "rmsprop = keras.optimizers.RMSprop(learning_rate=1e-4)\n",
    "\n",
    "model2.compile(optimizer='rmsprop', loss='binary_crossentropy', metrics=['accuracy'])\n",
    "\n",
    "checkpoint_cb = keras.callbacks.ModelCheckpoint('best-embedding-model.h5', save_best_only=True)\n",
    "early_stopping_cb = keras.callbacks.EarlyStopping(patience=3, restore_best_weights=True)\n",
    "\n",
    "history = model2.fit(train_seq, train_target, epochs=100, batch_size=64,\n",
    "                    validation_data = (val_seq, val_target),\n",
    "                    callbacks=[checkpoint_cb, early_stopping_cb])"
   ]
  },
  {
   "cell_type": "code",
   "execution_count": 35,
   "metadata": {},
   "outputs": [
    {
     "data": {
      "image/png": "[encoded data removed]",
      "text/plain": [
       "<Figure size 640x480 with 1 Axes>"
      ]
     },
     "metadata": {},
     "output_type": "display_data"
    }
   ],
   "source": [
    "# 훈련 손실과 검증 손실 그래프로 비교\n",
    "plt.plot(history.history['loss'])\n",
    "plt.plot(history.history['val_loss'])\n",
    "plt.xlabel('epoch')\n",
    "plt.ylabel('loss')\n",
    "plt.legend(['train', 'val'])\n",
    "plt.show()"
   ]
  },
  {
   "cell_type": "markdown",
   "metadata": {},
   "source": [
    "### 09-3 LSTM과 GRU 셀"
   ]
  },
  {
   "cell_type": "markdown",
   "metadata": {},
   "source": [
    "### LSTM 구조\n",
    "- Long Short-Term Memory 약자 - 단기 기억을 오래 기억하기 위해 고안"
   ]
  },
  {
   "cell_type": "markdown",
   "metadata": {},
   "source": [
    "### LSTM 신경망 훈련하기"
   ]
  },
  {
   "cell_type": "code",
   "execution_count": 36,
   "metadata": {},
   "outputs": [],
   "source": [
    "from tensorflow.keras.datasets import imdb\n",
    "\n",
    "(train_input, train_target), (test_input, test_target) = imdb.load_data(num_words=500)\n",
    "train_input, val_input, train_target, val_target = train_test_split(train_input, train_target, test_size=0.2,\n",
    "                                                                    random_state=42)"
   ]
  },
  {
   "cell_type": "code",
   "execution_count": 37,
   "metadata": {},
   "outputs": [],
   "source": [
    "# 샘플의 길이 100에 맞추고 부족할때는 패딩을 추가\n",
    "from tensorflow.keras.preprocessing.sequence import pad_sequences\n",
    "\n",
    "train_seq = pad_sequences(train_input, maxlen=100)\n",
    "val_seq = pad_sequences(val_input, maxlen=100)"
   ]
  },
  {
   "cell_type": "code",
   "execution_count": 38,
   "metadata": {},
   "outputs": [],
   "source": [
    "from tensorflow import keras\n",
    "\n",
    "model = keras.Sequential()\n",
    "\n",
    "model.add(keras.layers.Embedding(500, 16, input_length=100))\n",
    "model.add(keras.layers.LSTM(8))\n",
    "model.add(keras.layers.Dense(1, activation='sigmoid'))"
   ]
  },
  {
   "cell_type": "code",
   "execution_count": 39,
   "metadata": {},
   "outputs": [
    {
     "name": "stdout",
     "output_type": "stream",
     "text": [
      "Model: \"sequential_2\"\n",
      "_________________________________________________________________\n",
      " Layer (type)                Output Shape              Param #   \n",
      "=================================================================\n",
      " embedding_1 (Embedding)     (None, 100, 16)           8000      \n",
      "                                                                 \n",
      " lstm (LSTM)                 (None, 8)                 800       \n",
      "                                                                 \n",
      " dense_2 (Dense)             (None, 1)                 9         \n",
      "                                                                 \n",
      "=================================================================\n",
      "Total params: 8809 (34.41 KB)\n",
      "Trainable params: 8809 (34.41 KB)\n",
      "Non-trainable params: 0 (0.00 Byte)\n",
      "_________________________________________________________________\n"
     ]
    }
   ],
   "source": [
    "model.summary()"
   ]
  },
  {
   "cell_type": "code",
   "execution_count": 40,
   "metadata": {},
   "outputs": [
    {
     "name": "stdout",
     "output_type": "stream",
     "text": [
      "Epoch 1/100\n",
      "313/313 [==============================] - 8s 20ms/step - loss: 0.6927 - accuracy: 0.5350 - val_loss: 0.6920 - val_accuracy: 0.5614\n",
      "Epoch 2/100\n",
      " 11/313 [>.............................] - ETA: 5s - loss: 0.6920 - accuracy: 0.5923"
     ]
    },
    {
     "name": "stderr",
     "output_type": "stream",
     "text": [
      "c:\\Users\\baesuhan\\AppData\\Local\\Programs\\Python\\Python311\\Lib\\site-packages\\keras\\src\\engine\\training.py:3103: UserWarning: You are saving your model as an HDF5 file via `model.save()`. This file format is considered legacy. We recommend using instead the native Keras format, e.g. `model.save('my_model.keras')`.\n",
      "  saving_api.save_model(\n"
     ]
    },
    {
     "name": "stdout",
     "output_type": "stream",
     "text": [
      "313/313 [==============================] - 6s 18ms/step - loss: 0.6912 - accuracy: 0.5804 - val_loss: 0.6903 - val_accuracy: 0.5914\n",
      "Epoch 3/100\n",
      "313/313 [==============================] - 6s 19ms/step - loss: 0.6885 - accuracy: 0.6157 - val_loss: 0.6865 - val_accuracy: 0.6180\n",
      "Epoch 4/100\n",
      "313/313 [==============================] - 5s 16ms/step - loss: 0.6826 - accuracy: 0.6363 - val_loss: 0.6778 - val_accuracy: 0.6476\n",
      "Epoch 5/100\n",
      "313/313 [==============================] - 6s 18ms/step - loss: 0.6668 - accuracy: 0.6646 - val_loss: 0.6511 - val_accuracy: 0.6782\n",
      "Epoch 6/100\n",
      "313/313 [==============================] - 6s 20ms/step - loss: 0.6167 - accuracy: 0.7096 - val_loss: 0.5887 - val_accuracy: 0.7210\n",
      "Epoch 7/100\n",
      "313/313 [==============================] - 6s 21ms/step - loss: 0.5700 - accuracy: 0.7370 - val_loss: 0.5623 - val_accuracy: 0.7344\n",
      "Epoch 8/100\n",
      "313/313 [==============================] - 6s 18ms/step - loss: 0.5485 - accuracy: 0.7483 - val_loss: 0.5446 - val_accuracy: 0.7476\n",
      "Epoch 9/100\n",
      "313/313 [==============================] - 6s 19ms/step - loss: 0.5301 - accuracy: 0.7607 - val_loss: 0.5300 - val_accuracy: 0.7578\n",
      "Epoch 10/100\n",
      "313/313 [==============================] - 6s 18ms/step - loss: 0.5142 - accuracy: 0.7707 - val_loss: 0.5140 - val_accuracy: 0.7712\n",
      "Epoch 11/100\n",
      "313/313 [==============================] - 6s 19ms/step - loss: 0.4998 - accuracy: 0.7785 - val_loss: 0.5073 - val_accuracy: 0.7688\n",
      "Epoch 12/100\n",
      "313/313 [==============================] - 6s 18ms/step - loss: 0.4867 - accuracy: 0.7856 - val_loss: 0.4932 - val_accuracy: 0.7752\n",
      "Epoch 13/100\n",
      "313/313 [==============================] - 6s 19ms/step - loss: 0.4753 - accuracy: 0.7918 - val_loss: 0.4820 - val_accuracy: 0.7782\n",
      "Epoch 14/100\n",
      "313/313 [==============================] - 6s 19ms/step - loss: 0.4652 - accuracy: 0.7954 - val_loss: 0.4722 - val_accuracy: 0.7868\n",
      "Epoch 15/100\n",
      "313/313 [==============================] - 6s 19ms/step - loss: 0.4561 - accuracy: 0.7988 - val_loss: 0.4650 - val_accuracy: 0.7866\n",
      "Epoch 16/100\n",
      "313/313 [==============================] - 6s 19ms/step - loss: 0.4487 - accuracy: 0.8016 - val_loss: 0.4601 - val_accuracy: 0.7884\n",
      "Epoch 17/100\n",
      "313/313 [==============================] - 6s 19ms/step - loss: 0.4427 - accuracy: 0.8037 - val_loss: 0.4561 - val_accuracy: 0.7902\n",
      "Epoch 18/100\n",
      "313/313 [==============================] - 6s 20ms/step - loss: 0.4381 - accuracy: 0.8062 - val_loss: 0.4521 - val_accuracy: 0.7898\n",
      "Epoch 19/100\n",
      "313/313 [==============================] - 6s 19ms/step - loss: 0.4341 - accuracy: 0.8066 - val_loss: 0.4491 - val_accuracy: 0.7910\n",
      "Epoch 20/100\n",
      "313/313 [==============================] - 6s 19ms/step - loss: 0.4306 - accuracy: 0.8101 - val_loss: 0.4478 - val_accuracy: 0.7912\n",
      "Epoch 21/100\n",
      "313/313 [==============================] - 6s 19ms/step - loss: 0.4284 - accuracy: 0.8101 - val_loss: 0.4459 - val_accuracy: 0.7936\n",
      "Epoch 22/100\n",
      "313/313 [==============================] - 6s 19ms/step - loss: 0.4263 - accuracy: 0.8110 - val_loss: 0.4443 - val_accuracy: 0.7960\n",
      "Epoch 23/100\n",
      "313/313 [==============================] - 6s 19ms/step - loss: 0.4245 - accuracy: 0.8110 - val_loss: 0.4434 - val_accuracy: 0.7962\n",
      "Epoch 24/100\n",
      "313/313 [==============================] - 6s 19ms/step - loss: 0.4231 - accuracy: 0.8126 - val_loss: 0.4426 - val_accuracy: 0.7964\n",
      "Epoch 25/100\n",
      "313/313 [==============================] - 6s 19ms/step - loss: 0.4215 - accuracy: 0.8137 - val_loss: 0.4421 - val_accuracy: 0.7958\n",
      "Epoch 26/100\n",
      "313/313 [==============================] - 6s 19ms/step - loss: 0.4206 - accuracy: 0.8134 - val_loss: 0.4408 - val_accuracy: 0.7968\n",
      "Epoch 27/100\n",
      "313/313 [==============================] - 6s 19ms/step - loss: 0.4192 - accuracy: 0.8133 - val_loss: 0.4399 - val_accuracy: 0.7950\n",
      "Epoch 28/100\n",
      "313/313 [==============================] - 6s 19ms/step - loss: 0.4181 - accuracy: 0.8139 - val_loss: 0.4396 - val_accuracy: 0.7964\n",
      "Epoch 29/100\n",
      "313/313 [==============================] - 6s 19ms/step - loss: 0.4178 - accuracy: 0.8138 - val_loss: 0.4396 - val_accuracy: 0.7946\n",
      "Epoch 30/100\n",
      "313/313 [==============================] - 6s 19ms/step - loss: 0.4168 - accuracy: 0.8144 - val_loss: 0.4415 - val_accuracy: 0.7926\n",
      "Epoch 31/100\n",
      "313/313 [==============================] - 6s 19ms/step - loss: 0.4161 - accuracy: 0.8142 - val_loss: 0.4397 - val_accuracy: 0.7958\n"
     ]
    }
   ],
   "source": [
    "rmsprop = keras.optimizers.RMSprop(learning_rate=1e-4)\n",
    "\n",
    "model.compile(optimizer=rmsprop, loss='binary_crossentropy', metrics=['accuracy'])\n",
    "\n",
    "checkpoint_cb = keras.callbacks.ModelCheckpoint('best-lstm-model.h5', save_best_only=True)\n",
    "early_stopping_cb = keras.callbacks.EarlyStopping(patience=3, restore_best_weights=True)\n",
    "\n",
    "history = model.fit(train_seq, train_target, epochs=100, batch_size=64,\n",
    "                    validation_data=(val_seq, val_target),\n",
    "                    callbacks=[checkpoint_cb, early_stopping_cb])"
   ]
  },
  {
   "cell_type": "code",
   "execution_count": 41,
   "metadata": {},
   "outputs": [
    {
     "data": {
      "image/png": "[encoded data removed]",
      "text/plain": [
       "<Figure size 640x480 with 1 Axes>"
      ]
     },
     "metadata": {},
     "output_type": "display_data"
    }
   ],
   "source": [
    "# 훈련 손실과 검증 손실 그래프로 비교\n",
    "import matplotlib.pyplot as plt\n",
    "\n",
    "plt.plot(history.history['loss'])\n",
    "plt.plot(history.history['val_loss'])\n",
    "plt.xlabel('epoch')\n",
    "plt.ylabel('loss')\n",
    "plt.legend(['train', 'val'])\n",
    "plt.show()"
   ]
  },
  {
   "cell_type": "markdown",
   "metadata": {},
   "source": [
    "### 순환층에 드롭아웃 적용하기"
   ]
  },
  {
   "cell_type": "code",
   "execution_count": 42,
   "metadata": {},
   "outputs": [],
   "source": [
    "model2 = keras.Sequential()\n",
    "\n",
    "model2.add(keras.layers.Embedding(500, 16, input_length=100))\n",
    "model2.add(keras.layers.LSTM(8, dropout=0.3))\n",
    "model2.add(keras.layers.Dense(1, activation='sigmoid'))"
   ]
  },
  {
   "cell_type": "code",
   "execution_count": 43,
   "metadata": {},
   "outputs": [
    {
     "name": "stdout",
     "output_type": "stream",
     "text": [
      "Epoch 1/100\n",
      "313/313 [==============================] - 9s 22ms/step - loss: 0.6928 - accuracy: 0.5156 - val_loss: 0.6924 - val_accuracy: 0.5368\n",
      "Epoch 2/100\n",
      "  7/313 [..............................] - ETA: 6s - loss: 0.6923 - accuracy: 0.5558"
     ]
    },
    {
     "name": "stderr",
     "output_type": "stream",
     "text": [
      "c:\\Users\\baesuhan\\AppData\\Local\\Programs\\Python\\Python311\\Lib\\site-packages\\keras\\src\\engine\\training.py:3103: UserWarning: You are saving your model as an HDF5 file via `model.save()`. This file format is considered legacy. We recommend using instead the native Keras format, e.g. `model.save('my_model.keras')`.\n",
      "  saving_api.save_model(\n"
     ]
    },
    {
     "name": "stdout",
     "output_type": "stream",
     "text": [
      "313/313 [==============================] - 6s 19ms/step - loss: 0.6914 - accuracy: 0.5727 - val_loss: 0.6910 - val_accuracy: 0.5788\n",
      "Epoch 3/100\n",
      "313/313 [==============================] - 6s 19ms/step - loss: 0.6895 - accuracy: 0.5997 - val_loss: 0.6884 - val_accuracy: 0.6080\n",
      "Epoch 4/100\n",
      "313/313 [==============================] - 6s 18ms/step - loss: 0.6857 - accuracy: 0.6284 - val_loss: 0.6833 - val_accuracy: 0.6294\n",
      "Epoch 5/100\n",
      "313/313 [==============================] - 7s 21ms/step - loss: 0.6772 - accuracy: 0.6495 - val_loss: 0.6703 - val_accuracy: 0.6670\n",
      "Epoch 6/100\n",
      "313/313 [==============================] - 6s 21ms/step - loss: 0.6450 - accuracy: 0.6869 - val_loss: 0.6075 - val_accuracy: 0.7044\n",
      "Epoch 7/100\n",
      "313/313 [==============================] - 7s 24ms/step - loss: 0.5894 - accuracy: 0.7078 - val_loss: 0.5771 - val_accuracy: 0.7168\n",
      "Epoch 8/100\n",
      "313/313 [==============================] - 7s 23ms/step - loss: 0.5651 - accuracy: 0.7282 - val_loss: 0.5552 - val_accuracy: 0.7360\n",
      "Epoch 9/100\n",
      "313/313 [==============================] - 7s 21ms/step - loss: 0.5455 - accuracy: 0.7417 - val_loss: 0.5365 - val_accuracy: 0.7528\n",
      "Epoch 10/100\n",
      "313/313 [==============================] - 6s 20ms/step - loss: 0.5281 - accuracy: 0.7552 - val_loss: 0.5198 - val_accuracy: 0.7626\n",
      "Epoch 11/100\n",
      "313/313 [==============================] - 7s 22ms/step - loss: 0.5130 - accuracy: 0.7626 - val_loss: 0.5078 - val_accuracy: 0.7684\n",
      "Epoch 12/100\n",
      "313/313 [==============================] - 7s 21ms/step - loss: 0.4996 - accuracy: 0.7721 - val_loss: 0.4929 - val_accuracy: 0.7748\n",
      "Epoch 13/100\n",
      "313/313 [==============================] - 7s 21ms/step - loss: 0.4854 - accuracy: 0.7775 - val_loss: 0.4806 - val_accuracy: 0.7810\n",
      "Epoch 14/100\n",
      "313/313 [==============================] - 7s 21ms/step - loss: 0.4742 - accuracy: 0.7878 - val_loss: 0.4705 - val_accuracy: 0.7888\n",
      "Epoch 15/100\n",
      "313/313 [==============================] - 7s 22ms/step - loss: 0.4664 - accuracy: 0.7889 - val_loss: 0.4627 - val_accuracy: 0.7912\n",
      "Epoch 16/100\n",
      "313/313 [==============================] - 7s 22ms/step - loss: 0.4571 - accuracy: 0.7906 - val_loss: 0.4573 - val_accuracy: 0.7900\n",
      "Epoch 17/100\n",
      "313/313 [==============================] - 6s 20ms/step - loss: 0.4514 - accuracy: 0.7946 - val_loss: 0.4523 - val_accuracy: 0.7924\n",
      "Epoch 18/100\n",
      "313/313 [==============================] - 7s 22ms/step - loss: 0.4459 - accuracy: 0.7972 - val_loss: 0.4463 - val_accuracy: 0.7952\n",
      "Epoch 19/100\n",
      "313/313 [==============================] - 7s 23ms/step - loss: 0.4401 - accuracy: 0.8008 - val_loss: 0.4435 - val_accuracy: 0.7972\n",
      "Epoch 20/100\n",
      "313/313 [==============================] - 22s 70ms/step - loss: 0.4375 - accuracy: 0.8029 - val_loss: 0.4409 - val_accuracy: 0.7944\n",
      "Epoch 21/100\n",
      "313/313 [==============================] - 23s 73ms/step - loss: 0.4369 - accuracy: 0.7997 - val_loss: 0.4387 - val_accuracy: 0.7980\n",
      "Epoch 22/100\n",
      "313/313 [==============================] - 20s 63ms/step - loss: 0.4312 - accuracy: 0.8040 - val_loss: 0.4378 - val_accuracy: 0.7990\n",
      "Epoch 23/100\n",
      "313/313 [==============================] - 21s 67ms/step - loss: 0.4292 - accuracy: 0.8056 - val_loss: 0.4356 - val_accuracy: 0.8008\n",
      "Epoch 24/100\n",
      "313/313 [==============================] - 7s 23ms/step - loss: 0.4267 - accuracy: 0.8066 - val_loss: 0.4361 - val_accuracy: 0.8012\n",
      "Epoch 25/100\n",
      "313/313 [==============================] - 6s 18ms/step - loss: 0.4256 - accuracy: 0.8062 - val_loss: 0.4360 - val_accuracy: 0.7962\n",
      "Epoch 26/100\n",
      "313/313 [==============================] - 6s 19ms/step - loss: 0.4268 - accuracy: 0.8078 - val_loss: 0.4353 - val_accuracy: 0.7952\n",
      "Epoch 27/100\n",
      "313/313 [==============================] - 7s 23ms/step - loss: 0.4226 - accuracy: 0.8091 - val_loss: 0.4304 - val_accuracy: 0.8016\n",
      "Epoch 28/100\n",
      "313/313 [==============================] - 7s 23ms/step - loss: 0.4221 - accuracy: 0.8079 - val_loss: 0.4293 - val_accuracy: 0.8016\n",
      "Epoch 29/100\n",
      "313/313 [==============================] - 7s 22ms/step - loss: 0.4198 - accuracy: 0.8096 - val_loss: 0.4324 - val_accuracy: 0.8018\n",
      "Epoch 30/100\n",
      "313/313 [==============================] - 6s 20ms/step - loss: 0.4196 - accuracy: 0.8072 - val_loss: 0.4284 - val_accuracy: 0.8042\n",
      "Epoch 31/100\n",
      "313/313 [==============================] - 7s 21ms/step - loss: 0.4169 - accuracy: 0.8117 - val_loss: 0.4276 - val_accuracy: 0.8012\n",
      "Epoch 32/100\n",
      "313/313 [==============================] - 6s 21ms/step - loss: 0.4176 - accuracy: 0.8094 - val_loss: 0.4309 - val_accuracy: 0.7980\n",
      "Epoch 33/100\n",
      "313/313 [==============================] - 6s 20ms/step - loss: 0.4138 - accuracy: 0.8122 - val_loss: 0.4304 - val_accuracy: 0.8054\n",
      "Epoch 34/100\n",
      "313/313 [==============================] - 7s 22ms/step - loss: 0.4144 - accuracy: 0.8115 - val_loss: 0.4260 - val_accuracy: 0.8020\n",
      "Epoch 35/100\n",
      "313/313 [==============================] - 6s 21ms/step - loss: 0.4135 - accuracy: 0.8138 - val_loss: 0.4262 - val_accuracy: 0.8042\n",
      "Epoch 36/100\n",
      "313/313 [==============================] - 6s 20ms/step - loss: 0.4113 - accuracy: 0.8131 - val_loss: 0.4243 - val_accuracy: 0.8056\n",
      "Epoch 37/100\n",
      "313/313 [==============================] - 7s 21ms/step - loss: 0.4118 - accuracy: 0.8120 - val_loss: 0.4248 - val_accuracy: 0.8032\n",
      "Epoch 38/100\n",
      "313/313 [==============================] - 6s 20ms/step - loss: 0.4120 - accuracy: 0.8123 - val_loss: 0.4237 - val_accuracy: 0.8052\n",
      "Epoch 39/100\n",
      "313/313 [==============================] - 6s 20ms/step - loss: 0.4092 - accuracy: 0.8159 - val_loss: 0.4241 - val_accuracy: 0.8034\n",
      "Epoch 40/100\n",
      "313/313 [==============================] - 6s 20ms/step - loss: 0.4101 - accuracy: 0.8120 - val_loss: 0.4240 - val_accuracy: 0.8028\n",
      "Epoch 41/100\n",
      "313/313 [==============================] - 6s 20ms/step - loss: 0.4089 - accuracy: 0.8114 - val_loss: 0.4228 - val_accuracy: 0.8056\n",
      "Epoch 42/100\n",
      "313/313 [==============================] - 6s 20ms/step - loss: 0.4077 - accuracy: 0.8140 - val_loss: 0.4241 - val_accuracy: 0.8042\n",
      "Epoch 43/100\n",
      "313/313 [==============================] - 7s 21ms/step - loss: 0.4078 - accuracy: 0.8134 - val_loss: 0.4242 - val_accuracy: 0.8056\n",
      "Epoch 44/100\n",
      "313/313 [==============================] - 7s 21ms/step - loss: 0.4054 - accuracy: 0.8141 - val_loss: 0.4217 - val_accuracy: 0.8060\n",
      "Epoch 45/100\n",
      "313/313 [==============================] - 6s 20ms/step - loss: 0.4046 - accuracy: 0.8137 - val_loss: 0.4244 - val_accuracy: 0.8046\n",
      "Epoch 46/100\n",
      "313/313 [==============================] - 6s 20ms/step - loss: 0.4036 - accuracy: 0.8181 - val_loss: 0.4212 - val_accuracy: 0.8070\n",
      "Epoch 47/100\n",
      "313/313 [==============================] - 6s 20ms/step - loss: 0.4031 - accuracy: 0.8152 - val_loss: 0.4211 - val_accuracy: 0.8060\n",
      "Epoch 48/100\n",
      "313/313 [==============================] - 6s 20ms/step - loss: 0.4019 - accuracy: 0.8146 - val_loss: 0.4203 - val_accuracy: 0.8080\n",
      "Epoch 49/100\n",
      "313/313 [==============================] - 6s 21ms/step - loss: 0.4030 - accuracy: 0.8151 - val_loss: 0.4215 - val_accuracy: 0.8066\n",
      "Epoch 50/100\n",
      "313/313 [==============================] - 6s 20ms/step - loss: 0.4014 - accuracy: 0.8170 - val_loss: 0.4210 - val_accuracy: 0.8076\n",
      "Epoch 51/100\n",
      "313/313 [==============================] - 6s 20ms/step - loss: 0.3997 - accuracy: 0.8175 - val_loss: 0.4204 - val_accuracy: 0.8086\n"
     ]
    }
   ],
   "source": [
    "rmsprop = keras.optimizers.RMSprop(learning_rate=1e-4)\n",
    "\n",
    "model2.compile(optimizer=rmsprop, loss='binary_crossentropy', metrics=['accuracy'])\n",
    "\n",
    "checkpoint_cb = keras.callbacks.ModelCheckpoint('best-dropout-model.h5', save_best_only=True)\n",
    "early_stopping_cb = keras.callbacks.EarlyStopping(patience=3, restore_best_weights=True)\n",
    "\n",
    "history = model2.fit(train_seq, train_target, epochs=100, batch_size=64,\n",
    "                    validation_data=(val_seq, val_target),\n",
    "                    callbacks=[checkpoint_cb, early_stopping_cb])"
   ]
  },
  {
   "cell_type": "code",
   "execution_count": 44,
   "metadata": {},
   "outputs": [
    {
     "data": {
      "image/png": "[encoded data removed]",
      "text/plain": [
       "<Figure size 640x480 with 1 Axes>"
      ]
     },
     "metadata": {},
     "output_type": "display_data"
    }
   ],
   "source": [
    "# 훈련 손실과 검증 손실 그래프로 비교\n",
    "plt.plot(history.history['loss'])\n",
    "plt.plot(history.history['val_loss'])\n",
    "plt.xlabel('epoch')\n",
    "plt.ylabel('loss')\n",
    "plt.legend(['train', 'val'])\n",
    "plt.show()"
   ]
  },
  {
   "cell_type": "markdown",
   "metadata": {},
   "source": [
    "### 2개의 층을 연결하기"
   ]
  },
  {
   "cell_type": "code",
   "execution_count": 45,
   "metadata": {},
   "outputs": [],
   "source": [
    "model3 = keras.Sequential()\n",
    "\n",
    "model3.add(keras.layers.Embedding(500, 16, input_length=100))\n",
    "model3.add(keras.layers.LSTM(8, dropout=0.3, return_sequences=True))\n",
    "model3.add(keras.layers.LSTM(8, dropout=0.3))\n",
    "model3.add(keras.layers.Dense(1, activation='sigmoid'))"
   ]
  },
  {
   "cell_type": "code",
   "execution_count": 46,
   "metadata": {},
   "outputs": [
    {
     "name": "stdout",
     "output_type": "stream",
     "text": [
      "Model: \"sequential_4\"\n",
      "_________________________________________________________________\n",
      " Layer (type)                Output Shape              Param #   \n",
      "=================================================================\n",
      " embedding_3 (Embedding)     (None, 100, 16)           8000      \n",
      "                                                                 \n",
      " lstm_2 (LSTM)               (None, 100, 8)            800       \n",
      "                                                                 \n",
      " lstm_3 (LSTM)               (None, 8)                 544       \n",
      "                                                                 \n",
      " dense_4 (Dense)             (None, 1)                 9         \n",
      "                                                                 \n",
      "=================================================================\n",
      "Total params: 9353 (36.54 KB)\n",
      "Trainable params: 9353 (36.54 KB)\n",
      "Non-trainable params: 0 (0.00 Byte)\n",
      "_________________________________________________________________\n"
     ]
    }
   ],
   "source": [
    "model3.summary()"
   ]
  },
  {
   "cell_type": "code",
   "execution_count": 47,
   "metadata": {},
   "outputs": [
    {
     "name": "stdout",
     "output_type": "stream",
     "text": [
      "Epoch 1/100\n",
      "313/313 [==============================] - 15s 35ms/step - loss: 0.6928 - accuracy: 0.5150 - val_loss: 0.6925 - val_accuracy: 0.5174\n",
      "Epoch 2/100\n",
      "  5/313 [..............................] - ETA: 10s - loss: 0.6924 - accuracy: 0.5594"
     ]
    },
    {
     "name": "stderr",
     "output_type": "stream",
     "text": [
      "c:\\Users\\baesuhan\\AppData\\Local\\Programs\\Python\\Python311\\Lib\\site-packages\\keras\\src\\engine\\training.py:3103: UserWarning: You are saving your model as an HDF5 file via `model.save()`. This file format is considered legacy. We recommend using instead the native Keras format, e.g. `model.save('my_model.keras')`.\n",
      "  saving_api.save_model(\n"
     ]
    },
    {
     "name": "stdout",
     "output_type": "stream",
     "text": [
      "313/313 [==============================] - 10s 33ms/step - loss: 0.6912 - accuracy: 0.5722 - val_loss: 0.6895 - val_accuracy: 0.5726\n",
      "Epoch 3/100\n",
      "313/313 [==============================] - 11s 36ms/step - loss: 0.6792 - accuracy: 0.6321 - val_loss: 0.6569 - val_accuracy: 0.6806\n",
      "Epoch 4/100\n",
      "313/313 [==============================] - 12s 38ms/step - loss: 0.6068 - accuracy: 0.6899 - val_loss: 0.5680 - val_accuracy: 0.7170\n",
      "Epoch 5/100\n",
      "313/313 [==============================] - 12s 37ms/step - loss: 0.5506 - accuracy: 0.7290 - val_loss: 0.5269 - val_accuracy: 0.7450\n",
      "Epoch 6/100\n",
      "313/313 [==============================] - 12s 38ms/step - loss: 0.5205 - accuracy: 0.7498 - val_loss: 0.5041 - val_accuracy: 0.7594\n",
      "Epoch 7/100\n",
      "313/313 [==============================] - 12s 38ms/step - loss: 0.4989 - accuracy: 0.7653 - val_loss: 0.4839 - val_accuracy: 0.7716\n",
      "Epoch 8/100\n",
      "313/313 [==============================] - 12s 37ms/step - loss: 0.4852 - accuracy: 0.7720 - val_loss: 0.4755 - val_accuracy: 0.7798\n",
      "Epoch 9/100\n",
      "313/313 [==============================] - 12s 38ms/step - loss: 0.4728 - accuracy: 0.7792 - val_loss: 0.4662 - val_accuracy: 0.7816\n",
      "Epoch 10/100\n",
      "313/313 [==============================] - 12s 38ms/step - loss: 0.4674 - accuracy: 0.7847 - val_loss: 0.4601 - val_accuracy: 0.7884\n",
      "Epoch 11/100\n",
      "313/313 [==============================] - 12s 37ms/step - loss: 0.4599 - accuracy: 0.7874 - val_loss: 0.4547 - val_accuracy: 0.7898\n",
      "Epoch 12/100\n",
      "313/313 [==============================] - 12s 38ms/step - loss: 0.4558 - accuracy: 0.7900 - val_loss: 0.4532 - val_accuracy: 0.7922\n",
      "Epoch 13/100\n",
      "313/313 [==============================] - 12s 38ms/step - loss: 0.4504 - accuracy: 0.7922 - val_loss: 0.4511 - val_accuracy: 0.7934\n",
      "Epoch 14/100\n",
      "313/313 [==============================] - 12s 38ms/step - loss: 0.4480 - accuracy: 0.7938 - val_loss: 0.4458 - val_accuracy: 0.7948\n",
      "Epoch 15/100\n",
      "313/313 [==============================] - 13s 40ms/step - loss: 0.4452 - accuracy: 0.7955 - val_loss: 0.4437 - val_accuracy: 0.7956\n",
      "Epoch 16/100\n",
      "313/313 [==============================] - 12s 39ms/step - loss: 0.4408 - accuracy: 0.7981 - val_loss: 0.4415 - val_accuracy: 0.7968\n",
      "Epoch 17/100\n",
      "313/313 [==============================] - 13s 40ms/step - loss: 0.4384 - accuracy: 0.8012 - val_loss: 0.4413 - val_accuracy: 0.7958\n",
      "Epoch 18/100\n",
      "313/313 [==============================] - 13s 40ms/step - loss: 0.4361 - accuracy: 0.8002 - val_loss: 0.4392 - val_accuracy: 0.7962\n",
      "Epoch 19/100\n",
      "313/313 [==============================] - 13s 42ms/step - loss: 0.4344 - accuracy: 0.7998 - val_loss: 0.4409 - val_accuracy: 0.7962\n",
      "Epoch 20/100\n",
      "313/313 [==============================] - 12s 38ms/step - loss: 0.4340 - accuracy: 0.8009 - val_loss: 0.4469 - val_accuracy: 0.7964\n",
      "Epoch 21/100\n",
      "313/313 [==============================] - 11s 37ms/step - loss: 0.4312 - accuracy: 0.8043 - val_loss: 0.4370 - val_accuracy: 0.7952\n",
      "Epoch 22/100\n",
      "313/313 [==============================] - 13s 40ms/step - loss: 0.4308 - accuracy: 0.8033 - val_loss: 0.4405 - val_accuracy: 0.7910\n",
      "Epoch 23/100\n",
      "313/313 [==============================] - 13s 40ms/step - loss: 0.4298 - accuracy: 0.8053 - val_loss: 0.4351 - val_accuracy: 0.8024\n",
      "Epoch 24/100\n",
      "313/313 [==============================] - 12s 39ms/step - loss: 0.4273 - accuracy: 0.8048 - val_loss: 0.4339 - val_accuracy: 0.7996\n",
      "Epoch 25/100\n",
      "313/313 [==============================] - 13s 40ms/step - loss: 0.4263 - accuracy: 0.8069 - val_loss: 0.4327 - val_accuracy: 0.8010\n",
      "Epoch 26/100\n",
      "313/313 [==============================] - 12s 39ms/step - loss: 0.4253 - accuracy: 0.8056 - val_loss: 0.4330 - val_accuracy: 0.7994\n",
      "Epoch 27/100\n",
      "313/313 [==============================] - 12s 39ms/step - loss: 0.4242 - accuracy: 0.8064 - val_loss: 0.4325 - val_accuracy: 0.8018\n",
      "Epoch 28/100\n",
      "313/313 [==============================] - 11s 37ms/step - loss: 0.4246 - accuracy: 0.8078 - val_loss: 0.4376 - val_accuracy: 0.7984\n",
      "Epoch 29/100\n",
      "313/313 [==============================] - 11s 35ms/step - loss: 0.4226 - accuracy: 0.8065 - val_loss: 0.4345 - val_accuracy: 0.7984\n",
      "Epoch 30/100\n",
      "313/313 [==============================] - 11s 35ms/step - loss: 0.4231 - accuracy: 0.8066 - val_loss: 0.4304 - val_accuracy: 0.8006\n",
      "Epoch 31/100\n",
      "313/313 [==============================] - 11s 35ms/step - loss: 0.4216 - accuracy: 0.8084 - val_loss: 0.4314 - val_accuracy: 0.8028\n",
      "Epoch 32/100\n",
      "313/313 [==============================] - 12s 37ms/step - loss: 0.4197 - accuracy: 0.8069 - val_loss: 0.4297 - val_accuracy: 0.8036\n",
      "Epoch 33/100\n",
      "313/313 [==============================] - 12s 37ms/step - loss: 0.4195 - accuracy: 0.8081 - val_loss: 0.4287 - val_accuracy: 0.8040\n",
      "Epoch 34/100\n",
      "313/313 [==============================] - 23s 74ms/step - loss: 0.4176 - accuracy: 0.8091 - val_loss: 0.4290 - val_accuracy: 0.8034\n",
      "Epoch 35/100\n",
      "313/313 [==============================] - 13s 42ms/step - loss: 0.4171 - accuracy: 0.8101 - val_loss: 0.4345 - val_accuracy: 0.7992\n",
      "Epoch 36/100\n",
      "313/313 [==============================] - 12s 40ms/step - loss: 0.4163 - accuracy: 0.8120 - val_loss: 0.4278 - val_accuracy: 0.8054\n",
      "Epoch 37/100\n",
      "313/313 [==============================] - 12s 37ms/step - loss: 0.4173 - accuracy: 0.8099 - val_loss: 0.4275 - val_accuracy: 0.8040\n",
      "Epoch 38/100\n",
      "313/313 [==============================] - 13s 40ms/step - loss: 0.4148 - accuracy: 0.8135 - val_loss: 0.4270 - val_accuracy: 0.8058\n",
      "Epoch 39/100\n",
      "313/313 [==============================] - 12s 38ms/step - loss: 0.4135 - accuracy: 0.8116 - val_loss: 0.4278 - val_accuracy: 0.8058\n",
      "Epoch 40/100\n",
      "313/313 [==============================] - 12s 38ms/step - loss: 0.4146 - accuracy: 0.8095 - val_loss: 0.4266 - val_accuracy: 0.8056\n",
      "Epoch 41/100\n",
      "313/313 [==============================] - 12s 37ms/step - loss: 0.4120 - accuracy: 0.8133 - val_loss: 0.4297 - val_accuracy: 0.8054\n",
      "Epoch 42/100\n",
      "313/313 [==============================] - 11s 36ms/step - loss: 0.4144 - accuracy: 0.8102 - val_loss: 0.4259 - val_accuracy: 0.8072\n",
      "Epoch 43/100\n",
      "313/313 [==============================] - 12s 37ms/step - loss: 0.4121 - accuracy: 0.8112 - val_loss: 0.4272 - val_accuracy: 0.8074\n",
      "Epoch 44/100\n",
      "313/313 [==============================] - 11s 37ms/step - loss: 0.4131 - accuracy: 0.8112 - val_loss: 0.4252 - val_accuracy: 0.8056\n",
      "Epoch 45/100\n",
      "313/313 [==============================] - 11s 37ms/step - loss: 0.4115 - accuracy: 0.8146 - val_loss: 0.4257 - val_accuracy: 0.8088\n",
      "Epoch 46/100\n",
      "313/313 [==============================] - 11s 36ms/step - loss: 0.4105 - accuracy: 0.8130 - val_loss: 0.4248 - val_accuracy: 0.8078\n",
      "Epoch 47/100\n",
      "313/313 [==============================] - 12s 37ms/step - loss: 0.4108 - accuracy: 0.8134 - val_loss: 0.4248 - val_accuracy: 0.8064\n",
      "Epoch 48/100\n",
      "313/313 [==============================] - 11s 36ms/step - loss: 0.4072 - accuracy: 0.8150 - val_loss: 0.4256 - val_accuracy: 0.8070\n",
      "Epoch 49/100\n",
      "313/313 [==============================] - 11s 36ms/step - loss: 0.4073 - accuracy: 0.8141 - val_loss: 0.4248 - val_accuracy: 0.8058\n",
      "Epoch 50/100\n",
      "313/313 [==============================] - 11s 36ms/step - loss: 0.4064 - accuracy: 0.8156 - val_loss: 0.4259 - val_accuracy: 0.8088\n",
      "Epoch 51/100\n",
      "313/313 [==============================] - 11s 36ms/step - loss: 0.4069 - accuracy: 0.8164 - val_loss: 0.4291 - val_accuracy: 0.8022\n",
      "Epoch 52/100\n",
      "313/313 [==============================] - 11s 36ms/step - loss: 0.4073 - accuracy: 0.8150 - val_loss: 0.4317 - val_accuracy: 0.8022\n"
     ]
    }
   ],
   "source": [
    "rmsprop = keras.optimizers.RMSprop(learning_rate=1e-4)\n",
    "\n",
    "model3.compile(optimizer=rmsprop, loss='binary_crossentropy', metrics=['accuracy'])\n",
    "\n",
    "checkpoint_cb = keras.callbacks.ModelCheckpoint('best-2rnn-model.h5', save_best_only=True)\n",
    "early_stopping_cb = keras.callbacks.EarlyStopping(patience=3, restore_best_weights=True)\n",
    "\n",
    "history = model3.fit(train_seq, train_target, epochs=100, batch_size=64,\n",
    "                    validation_data=(val_seq, val_target),\n",
    "                    callbacks=[checkpoint_cb, early_stopping_cb])"
   ]
  },
  {
   "cell_type": "code",
   "execution_count": 48,
   "metadata": {},
   "outputs": [
    {
     "data": {
      "image/png": "[encoded data removed]",
      "text/plain": [
       "<Figure size 640x480 with 1 Axes>"
      ]
     },
     "metadata": {},
     "output_type": "display_data"
    }
   ],
   "source": [
    "# 훈련 손실과 검증 손실 그래프로 비교\n",
    "plt.plot(history.history['loss'])\n",
    "plt.plot(history.history['val_loss'])\n",
    "plt.xlabel('epoch')\n",
    "plt.ylabel('loss')\n",
    "plt.legend(['train', 'val'])\n",
    "plt.show()"
   ]
  },
  {
   "cell_type": "markdown",
   "metadata": {},
   "source": [
    "### GRU 구조\n",
    "- Gated Recurrent Unit - LSTM 간소화한 버전 이 셀은 LSTM처럼 셀 상태를 계산하지 않고 은닉 상태 하나만 포함"
   ]
  },
  {
   "cell_type": "markdown",
   "metadata": {},
   "source": [
    "### GRU 신경망 훈련하기"
   ]
  },
  {
   "cell_type": "code",
   "execution_count": 51,
   "metadata": {},
   "outputs": [],
   "source": [
    "model4 = keras.Sequential()\n",
    "\n",
    "model4.add(keras.layers.Embedding(500, 16, input_length=100))\n",
    "model4.add(keras.layers.GRU(8))\n",
    "model4.add(keras.layers.Dense(1, activation='sigmoid'))"
   ]
  },
  {
   "cell_type": "code",
   "execution_count": 52,
   "metadata": {},
   "outputs": [
    {
     "name": "stdout",
     "output_type": "stream",
     "text": [
      "Model: \"sequential_6\"\n",
      "_________________________________________________________________\n",
      " Layer (type)                Output Shape              Param #   \n",
      "=================================================================\n",
      " embedding_5 (Embedding)     (None, 100, 16)           8000      \n",
      "                                                                 \n",
      " gru (GRU)                   (None, 8)                 624       \n",
      "                                                                 \n",
      " dense_6 (Dense)             (None, 1)                 9         \n",
      "                                                                 \n",
      "=================================================================\n",
      "Total params: 8633 (33.72 KB)\n",
      "Trainable params: 8633 (33.72 KB)\n",
      "Non-trainable params: 0 (0.00 Byte)\n",
      "_________________________________________________________________\n"
     ]
    }
   ],
   "source": [
    "model4.summary()"
   ]
  },
  {
   "cell_type": "code",
   "execution_count": 53,
   "metadata": {},
   "outputs": [
    {
     "name": "stdout",
     "output_type": "stream",
     "text": [
      "Epoch 1/100\n",
      "313/313 [==============================] - 9s 22ms/step - loss: 0.6928 - accuracy: 0.5148 - val_loss: 0.6927 - val_accuracy: 0.5268\n",
      "Epoch 2/100\n",
      " 10/313 [..............................] - ETA: 5s - loss: 0.6926 - accuracy: 0.5234"
     ]
    },
    {
     "name": "stderr",
     "output_type": "stream",
     "text": [
      "c:\\Users\\baesuhan\\AppData\\Local\\Programs\\Python\\Python311\\Lib\\site-packages\\keras\\src\\engine\\training.py:3103: UserWarning: You are saving your model as an HDF5 file via `model.save()`. This file format is considered legacy. We recommend using instead the native Keras format, e.g. `model.save('my_model.keras')`.\n",
      "  saving_api.save_model(\n"
     ]
    },
    {
     "name": "stdout",
     "output_type": "stream",
     "text": [
      "313/313 [==============================] - 6s 18ms/step - loss: 0.6921 - accuracy: 0.5452 - val_loss: 0.6921 - val_accuracy: 0.5546\n",
      "Epoch 3/100\n",
      "313/313 [==============================] - 6s 20ms/step - loss: 0.6913 - accuracy: 0.5604 - val_loss: 0.6912 - val_accuracy: 0.5582\n",
      "Epoch 4/100\n",
      "313/313 [==============================] - 6s 21ms/step - loss: 0.6900 - accuracy: 0.5702 - val_loss: 0.6899 - val_accuracy: 0.5636\n",
      "Epoch 5/100\n",
      "313/313 [==============================] - 7s 22ms/step - loss: 0.6883 - accuracy: 0.5804 - val_loss: 0.6881 - val_accuracy: 0.5664\n",
      "Epoch 6/100\n",
      "313/313 [==============================] - 7s 23ms/step - loss: 0.6859 - accuracy: 0.5863 - val_loss: 0.6855 - val_accuracy: 0.5770\n",
      "Epoch 7/100\n",
      "313/313 [==============================] - 7s 22ms/step - loss: 0.6824 - accuracy: 0.5918 - val_loss: 0.6821 - val_accuracy: 0.5732\n",
      "Epoch 8/100\n",
      "313/313 [==============================] - 7s 22ms/step - loss: 0.6778 - accuracy: 0.5994 - val_loss: 0.6774 - val_accuracy: 0.5790\n",
      "Epoch 9/100\n",
      "313/313 [==============================] - 7s 22ms/step - loss: 0.6715 - accuracy: 0.6075 - val_loss: 0.6710 - val_accuracy: 0.5892\n",
      "Epoch 10/100\n",
      "313/313 [==============================] - 7s 23ms/step - loss: 0.6632 - accuracy: 0.6172 - val_loss: 0.6628 - val_accuracy: 0.5976\n",
      "Epoch 11/100\n",
      "313/313 [==============================] - 7s 24ms/step - loss: 0.6523 - accuracy: 0.6286 - val_loss: 0.6519 - val_accuracy: 0.6126\n",
      "Epoch 12/100\n",
      "313/313 [==============================] - 7s 24ms/step - loss: 0.6380 - accuracy: 0.6421 - val_loss: 0.6369 - val_accuracy: 0.6322\n",
      "Epoch 13/100\n",
      "313/313 [==============================] - 7s 23ms/step - loss: 0.6188 - accuracy: 0.6605 - val_loss: 0.6162 - val_accuracy: 0.6580\n",
      "Epoch 14/100\n",
      "313/313 [==============================] - 7s 24ms/step - loss: 0.5911 - accuracy: 0.6888 - val_loss: 0.5846 - val_accuracy: 0.6938\n",
      "Epoch 15/100\n",
      "313/313 [==============================] - 7s 23ms/step - loss: 0.5477 - accuracy: 0.7237 - val_loss: 0.5373 - val_accuracy: 0.7294\n",
      "Epoch 16/100\n",
      "313/313 [==============================] - 8s 24ms/step - loss: 0.5071 - accuracy: 0.7531 - val_loss: 0.5181 - val_accuracy: 0.7412\n",
      "Epoch 17/100\n",
      "313/313 [==============================] - 7s 23ms/step - loss: 0.4903 - accuracy: 0.7692 - val_loss: 0.5018 - val_accuracy: 0.7550\n",
      "Epoch 18/100\n",
      "313/313 [==============================] - 7s 22ms/step - loss: 0.4776 - accuracy: 0.7779 - val_loss: 0.4936 - val_accuracy: 0.7634\n",
      "Epoch 19/100\n",
      "313/313 [==============================] - 7s 24ms/step - loss: 0.4683 - accuracy: 0.7842 - val_loss: 0.4839 - val_accuracy: 0.7718\n",
      "Epoch 20/100\n",
      "313/313 [==============================] - 7s 22ms/step - loss: 0.4600 - accuracy: 0.7907 - val_loss: 0.4772 - val_accuracy: 0.7776\n",
      "Epoch 21/100\n",
      "313/313 [==============================] - 8s 24ms/step - loss: 0.4533 - accuracy: 0.7942 - val_loss: 0.4717 - val_accuracy: 0.7788\n",
      "Epoch 22/100\n",
      "313/313 [==============================] - 7s 24ms/step - loss: 0.4476 - accuracy: 0.7976 - val_loss: 0.4684 - val_accuracy: 0.7830\n",
      "Epoch 23/100\n",
      "313/313 [==============================] - 7s 22ms/step - loss: 0.4426 - accuracy: 0.7999 - val_loss: 0.4640 - val_accuracy: 0.7822\n",
      "Epoch 24/100\n",
      "313/313 [==============================] - 7s 21ms/step - loss: 0.4385 - accuracy: 0.8052 - val_loss: 0.4609 - val_accuracy: 0.7888\n",
      "Epoch 25/100\n",
      "313/313 [==============================] - 7s 22ms/step - loss: 0.4349 - accuracy: 0.8061 - val_loss: 0.4579 - val_accuracy: 0.7862\n",
      "Epoch 26/100\n",
      "313/313 [==============================] - 7s 22ms/step - loss: 0.4323 - accuracy: 0.8074 - val_loss: 0.4555 - val_accuracy: 0.7880\n",
      "Epoch 27/100\n",
      "313/313 [==============================] - 7s 21ms/step - loss: 0.4293 - accuracy: 0.8090 - val_loss: 0.4542 - val_accuracy: 0.7898\n",
      "Epoch 28/100\n",
      "313/313 [==============================] - 7s 21ms/step - loss: 0.4273 - accuracy: 0.8098 - val_loss: 0.4558 - val_accuracy: 0.7928\n",
      "Epoch 29/100\n",
      "313/313 [==============================] - 7s 21ms/step - loss: 0.4257 - accuracy: 0.8123 - val_loss: 0.4515 - val_accuracy: 0.7906\n",
      "Epoch 30/100\n",
      "313/313 [==============================] - 7s 21ms/step - loss: 0.4239 - accuracy: 0.8130 - val_loss: 0.4499 - val_accuracy: 0.7916\n",
      "Epoch 31/100\n",
      "313/313 [==============================] - 7s 21ms/step - loss: 0.4224 - accuracy: 0.8120 - val_loss: 0.4493 - val_accuracy: 0.7902\n",
      "Epoch 32/100\n",
      "313/313 [==============================] - 7s 21ms/step - loss: 0.4210 - accuracy: 0.8144 - val_loss: 0.4481 - val_accuracy: 0.7922\n",
      "Epoch 33/100\n",
      "313/313 [==============================] - 7s 22ms/step - loss: 0.4201 - accuracy: 0.8131 - val_loss: 0.4475 - val_accuracy: 0.7936\n",
      "Epoch 34/100\n",
      "313/313 [==============================] - 7s 22ms/step - loss: 0.4190 - accuracy: 0.8145 - val_loss: 0.4462 - val_accuracy: 0.7942\n",
      "Epoch 35/100\n",
      "313/313 [==============================] - 7s 21ms/step - loss: 0.4179 - accuracy: 0.8158 - val_loss: 0.4457 - val_accuracy: 0.7934\n",
      "Epoch 36/100\n",
      "313/313 [==============================] - 7s 22ms/step - loss: 0.4171 - accuracy: 0.8156 - val_loss: 0.4450 - val_accuracy: 0.7938\n",
      "Epoch 37/100\n",
      "313/313 [==============================] - 7s 21ms/step - loss: 0.4163 - accuracy: 0.8151 - val_loss: 0.4441 - val_accuracy: 0.7952\n",
      "Epoch 38/100\n",
      "313/313 [==============================] - 7s 21ms/step - loss: 0.4157 - accuracy: 0.8159 - val_loss: 0.4441 - val_accuracy: 0.7942\n",
      "Epoch 39/100\n",
      "313/313 [==============================] - 7s 21ms/step - loss: 0.4150 - accuracy: 0.8164 - val_loss: 0.4470 - val_accuracy: 0.7894\n",
      "Epoch 40/100\n",
      "313/313 [==============================] - 7s 22ms/step - loss: 0.4143 - accuracy: 0.8181 - val_loss: 0.4425 - val_accuracy: 0.7948\n",
      "Epoch 41/100\n",
      "313/313 [==============================] - 7s 22ms/step - loss: 0.4135 - accuracy: 0.8168 - val_loss: 0.4426 - val_accuracy: 0.7946\n",
      "Epoch 42/100\n",
      "313/313 [==============================] - 7s 22ms/step - loss: 0.4129 - accuracy: 0.8159 - val_loss: 0.4432 - val_accuracy: 0.7946\n",
      "Epoch 43/100\n",
      "313/313 [==============================] - 7s 22ms/step - loss: 0.4123 - accuracy: 0.8166 - val_loss: 0.4443 - val_accuracy: 0.7924\n"
     ]
    }
   ],
   "source": [
    "rmsprop = keras.optimizers.RMSprop(learning_rate=1e-4)\n",
    "\n",
    "model4.compile(optimizer=rmsprop, loss='binary_crossentropy', metrics=['accuracy'])\n",
    "\n",
    "checkpoint_cb = keras.callbacks.ModelCheckpoint('best-gru-model.h5', save_best_only=True)\n",
    "early_stopping_cb = keras.callbacks.EarlyStopping(patience=3, restore_best_weights=True)\n",
    "\n",
    "history = model4.fit(train_seq, train_target, epochs=100, batch_size=64,\n",
    "                    validation_data=(val_seq, val_target),\n",
    "                    callbacks=[checkpoint_cb, early_stopping_cb])"
   ]
  },
  {
   "cell_type": "code",
   "execution_count": 54,
   "metadata": {},
   "outputs": [
    {
     "data": {
      "image/png": "[encoded data removed]",
      "text/plain": [
       "<Figure size 640x480 with 1 Axes>"
      ]
     },
     "metadata": {},
     "output_type": "display_data"
    }
   ],
   "source": [
    "# 훈련 손실과 검증 손실 그래프로 비교\n",
    "plt.plot(history.history['loss'])\n",
    "plt.plot(history.history['val_loss'])\n",
    "plt.xlabel('epoch')\n",
    "plt.ylabel('loss')\n",
    "plt.legend(['train', 'val'])\n",
    "plt.show()"
   ]
  },
  {
   "cell_type": "markdown",
   "metadata": {},
   "source": [
    "### LSTM과 GRU 셀로 훈련"
   ]
  },
  {
   "cell_type": "code",
   "execution_count": 55,
   "metadata": {},
   "outputs": [
    {
     "name": "stdout",
     "output_type": "stream",
     "text": [
      "782/782 [==============================] - 6s 7ms/step - loss: 0.4216 - accuracy: 0.8036\n"
     ]
    },
    {
     "data": {
      "text/plain": [
       "[0.42161574959754944, 0.8035600185394287]"
      ]
     },
     "execution_count": 55,
     "metadata": {},
     "output_type": "execute_result"
    }
   ],
   "source": [
    "# 가장 좋았던 2개의 순환층을 쌓은 모델 다시 로드\n",
    "test_seq = pad_sequences(test_input, maxlen=100)\n",
    "rnn_model = keras.models.load_model('best-2rnn-model.h5')\n",
    "rnn_model.evaluate(test_seq, test_target)"
   ]
  }
 ],
 "metadata": {
  "kernelspec": {
   "display_name": "Python 3",
   "language": "python",
   "name": "python3"
  },
  "language_info": {
   "codemirror_mode": {
    "name": "ipython",
    "version": 3
   },
   "file_extension": ".py",
   "mimetype": "text/x-python",
   "name": "python",
   "nbconvert_exporter": "python",
   "pygments_lexer": "ipython3",
   "version": "3.11.2"
  }
 },
 "nbformat": 4,
 "nbformat_minor": 2
}
